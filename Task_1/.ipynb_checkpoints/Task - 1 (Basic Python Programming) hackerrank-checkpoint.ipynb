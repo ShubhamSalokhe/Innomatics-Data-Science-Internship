{
 "cells": [
  {
   "cell_type": "markdown",
   "id": "bc2a388e",
   "metadata": {},
   "source": [
    "# Task - 1 (Basic Python Programming)\n",
    "**SHUBHAM SALOKHE**"
   ]
  },
  {
   "cell_type": "markdown",
   "id": "aeca9c94",
   "metadata": {},
   "source": [
    "## 1. Say \"Hello, World!\" With Python"
   ]
  },
  {
   "cell_type": "code",
   "execution_count": 1,
   "id": "f299693f",
   "metadata": {},
   "outputs": [
    {
     "name": "stdout",
     "output_type": "stream",
     "text": [
      "Hello, World!\n"
     ]
    }
   ],
   "source": [
    "my_string = \"Hello, World!\"\n",
    "print(my_string)\n"
   ]
  },
  {
   "cell_type": "markdown",
   "id": "75d9f805",
   "metadata": {},
   "source": [
    "## 2. Python If-Else"
   ]
  },
  {
   "cell_type": "code",
   "execution_count": 2,
   "id": "32bc67b6",
   "metadata": {},
   "outputs": [
    {
     "name": "stdout",
     "output_type": "stream",
     "text": [
      "24\n",
      "Not Weird\n"
     ]
    }
   ],
   "source": [
    "#!/bin/python3\n",
    "\n",
    "import math\n",
    "import os\n",
    "import random\n",
    "import re\n",
    "import sys\n",
    "\n",
    "\n",
    "N = int(input().strip())\n",
    "if N%2==1 or N >=6 and  N <=20:\n",
    "    print('Weird')\n",
    "elif N >= 2 and  N <=5 or N>20:\n",
    "    print('Not Weird')\n"
   ]
  },
  {
   "cell_type": "markdown",
   "id": "78f32860",
   "metadata": {},
   "source": [
    "## 3. Arithmetic Operators"
   ]
  },
  {
   "cell_type": "code",
   "execution_count": 11,
   "id": "cd605241",
   "metadata": {},
   "outputs": [
    {
     "name": "stdout",
     "output_type": "stream",
     "text": [
      "24\n",
      "78\n",
      "a+b:102\n",
      "a-b:-54\n",
      "a*b:1872\n"
     ]
    }
   ],
   "source": [
    "a = int(input())\n",
    "b = int(input())\n",
    "print('a+b:{}'.format(a+b))\n",
    "print('a-b:{}'.format(a-b))\n",
    "print('a*b:{}'.format(a*b))"
   ]
  },
  {
   "cell_type": "markdown",
   "id": "64d3f02f",
   "metadata": {},
   "source": [
    "## 4. Python: Division"
   ]
  },
  {
   "cell_type": "code",
   "execution_count": null,
   "id": "983d6a8e",
   "metadata": {},
   "outputs": [],
   "source": [
    "a = int(input())\n",
    "b = int(input())\n",
    "print(a//b)\n",
    "print(a/b)"
   ]
  },
  {
   "cell_type": "markdown",
   "id": "4ce1f9a7",
   "metadata": {},
   "source": [
    "## 5. Loops\n"
   ]
  },
  {
   "cell_type": "code",
   "execution_count": null,
   "id": "1cbdbc01",
   "metadata": {},
   "outputs": [],
   "source": [
    "if __name__ == '__main__':\n",
    "    n = int(input())\n",
    "    for i in range(n):\n",
    "        print(i**2)"
   ]
  },
  {
   "cell_type": "markdown",
   "id": "8ade5de8",
   "metadata": {},
   "source": [
    "## 6.Write a function\n",
    "Given a year, determine whether it is a leap year. If it is a leap year, return the Boolean True, otherwise return False.\n",
    "\n",
    "Note that the code stub provided reads from STDIN and passes arguments to the is_leap function. It is only necessary to complete the is_leap function."
   ]
  },
  {
   "cell_type": "code",
   "execution_count": null,
   "id": "6fea870c",
   "metadata": {},
   "outputs": [],
   "source": [
    "def is_leap(year):\n",
    "    leap = False\n",
    "    if int(year)%4 ==0 and int(year)%100 !=0:\n",
    "        leap =True\n",
    "    elif int(year)%100 ==0 and int(year)%400 !=0:\n",
    "        leap =False\n",
    "    elif int(year)%400==0:\n",
    "        leap =True\n",
    "    return leap\n"
   ]
  },
  {
   "cell_type": "markdown",
   "id": "54e7367f",
   "metadata": {},
   "source": [
    "## 7. Print Function\n",
    "The included code stub will read an integer, , from STDIN.\n",
    "\n",
    "Without using any string methods, try to print the following:\n",
    "\n",
    "\n",
    "Note that \"\" represents the consecutive values in between."
   ]
  },
  {
   "cell_type": "code",
   "execution_count": null,
   "id": "f2c5e54a",
   "metadata": {},
   "outputs": [],
   "source": [
    "if __name__ == '__main__':\n",
    "    n = int(input())\n",
    "    for i in range(n+1):\n",
    "        if i==0:\n",
    "            continue\n",
    "        print(i,end='')"
   ]
  }
 ],
 "metadata": {
  "kernelspec": {
   "display_name": "Python 3",
   "language": "python",
   "name": "python3"
  },
  "language_info": {
   "codemirror_mode": {
    "name": "ipython",
    "version": 3
   },
   "file_extension": ".py",
   "mimetype": "text/x-python",
   "name": "python",
   "nbconvert_exporter": "python",
   "pygments_lexer": "ipython3",
   "version": "3.8.8"
  }
 },
 "nbformat": 4,
 "nbformat_minor": 5
}
