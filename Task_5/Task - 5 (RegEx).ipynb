{
 "cells": [
  {
   "cell_type": "markdown",
   "id": "22118fbb",
   "metadata": {},
   "source": [
    "## Innomatics Research Labs\n",
    "**SHUBHAM SALOKHE**"
   ]
  },
  {
   "cell_type": "markdown",
   "id": "10ebe66b",
   "metadata": {},
   "source": [
    "Task - 5 (RegEx)"
   ]
  },
  {
   "cell_type": "markdown",
   "id": "3382011b",
   "metadata": {},
   "source": [
    "### 1. Detect Floating Point Number"
   ]
  },
  {
   "cell_type": "code",
   "execution_count": null,
   "id": "7176deb3",
   "metadata": {},
   "outputs": [],
   "source": [
    "# Enter your code here. Read input from STDIN. Print output to STDOUT\n",
    "import re\n",
    "\n",
    "for i in range(int(input())):\n",
    "    print(bool(re.match(r\"^[-+]?[0-9]*\\.[0-9]+$\",input())))\n",
    "    \n"
   ]
  },
  {
   "cell_type": "markdown",
   "id": "83b3e358",
   "metadata": {},
   "source": [
    "### 2. Re.split()"
   ]
  },
  {
   "cell_type": "code",
   "execution_count": null,
   "id": "c184349a",
   "metadata": {},
   "outputs": [],
   "source": [
    "regex_pattern = r\"[.,]\"\t# Do not delete 'r'."
   ]
  },
  {
   "cell_type": "markdown",
   "id": "860f2fe1",
   "metadata": {},
   "source": [
    "### 3. Group(), Groups() & Groupdict()"
   ]
  },
  {
   "cell_type": "code",
   "execution_count": null,
   "id": "8823d9e2",
   "metadata": {},
   "outputs": [],
   "source": [
    "# Enter your code here. Read input from STDIN. Print output to STDOUT\n",
    "import re\n",
    "str = input()\n",
    "m = re.search(r\"([a-z0-9])\\1+\", str)\n",
    "print(m.group(1) if m else -1)\n"
   ]
  },
  {
   "cell_type": "markdown",
   "id": "2cf4e452",
   "metadata": {},
   "source": [
    "### 4. Re.findall() & Re.finditer()"
   ]
  },
  {
   "cell_type": "code",
   "execution_count": null,
   "id": "23fc9d70",
   "metadata": {},
   "outputs": [],
   "source": [
    "# Enter your code here. Read input from STDIN. Print output to STDOUT\n",
    "import re \n",
    "v = \"aeiou\"\n",
    "c = \"qwrtypsdfghjklzxcvbnm\"\n",
    "r = re.findall(rf\"(?<=[{c}])([{v}]{{2,}})[{c}]\", input(), re.I)\n",
    "print('\\n'.join(r or ['-1']))\n"
   ]
  },
  {
   "cell_type": "markdown",
   "id": "0a5e6d42",
   "metadata": {},
   "source": [
    "### 5. Re.start() & Re.end()\n"
   ]
  },
  {
   "cell_type": "code",
   "execution_count": null,
   "id": "48220747",
   "metadata": {},
   "outputs": [],
   "source": [
    "# Enter your code here. Read input from STDIN. Print output to STDOUT\n",
    "import re\n",
    "txt, pattern = input(), f\"(?={input()})\"\n",
    "indexes =  [f\"({m.start()}, {m.start()+len(pattern)-5})\" for m in re.finditer(pattern, txt)]\n",
    "print(\"\\n\".join(indexes or [\"(-1, -1)\"]))\n"
   ]
  },
  {
   "cell_type": "markdown",
   "id": "d2d475c2",
   "metadata": {},
   "source": [
    "### 6. Regex Substitution"
   ]
  },
  {
   "cell_type": "code",
   "execution_count": null,
   "id": "025159f9",
   "metadata": {},
   "outputs": [],
   "source": [
    "# Enter your code here. Read input from STDIN. Print output to STDOUT\n",
    "import re \n",
    "def change(match):\n",
    "    if match.group(1)=='&&':\n",
    "        return 'and'\n",
    "    else: \n",
    "     return 'or'\n",
    "     \n",
    "for i in range(int(input())):\n",
    "    print(re.sub(r\"(?<= )(\\|\\||&&)(?= )\",change,input()))\n",
    "    \n",
    "        \n"
   ]
  },
  {
   "cell_type": "markdown",
   "id": "a9974c50",
   "metadata": {},
   "source": [
    "### 7. Validating Roman Numerals\n"
   ]
  },
  {
   "cell_type": "code",
   "execution_count": null,
   "id": "453cb167",
   "metadata": {},
   "outputs": [],
   "source": [
    "from re import compile \n",
    "regex_pattern = compile(r\"^(?=[MDCLXVI])M{0,3}(CM|CD|D?C{0,3})(XC|XL|L?X{0,3})(IX|IV|V?I{0,3})$\")\t# Do not delete 'r'."
   ]
  },
  {
   "cell_type": "markdown",
   "id": "cea0424c",
   "metadata": {},
   "source": [
    "### 8. Validating phone numbers"
   ]
  },
  {
   "cell_type": "code",
   "execution_count": null,
   "id": "3080365f",
   "metadata": {},
   "outputs": [],
   "source": [
    "# Enter your code here. Read input from STDIN. Print output to STDOUT\n",
    "import re\n",
    "# N= int(input())\n",
    "\n",
    "m = re.compile(r\"^[789]\\d{9}$\")\n",
    "\n",
    "for i in range(int(input())):\n",
    "    if re.match(m,input()):\n",
    "        print(\"YES\")\n",
    "    else:\n",
    "        print(\"NO\")\n"
   ]
  },
  {
   "cell_type": "markdown",
   "id": "4cd4081c",
   "metadata": {},
   "source": [
    "### 9. Validating and Parsing Email Addresses"
   ]
  },
  {
   "cell_type": "code",
   "execution_count": null,
   "id": "f4cec871",
   "metadata": {},
   "outputs": [],
   "source": [
    "# Enter your code here. Read input from STDIN. Print output to STDOUT\n",
    "import re\n",
    "\n",
    "m = re.compile(r'^[a-zA-Z]{1}[\\w\\-\\.]+@[a-zA-Z]+\\.[a-zA-Z]{1,3}$')\n",
    "\n",
    "for i in range(int(input())):\n",
    "    name, email = input().strip().split()\n",
    "    if (re.match(m,email[1:-1])):\n",
    "        print(name,email)\n"
   ]
  },
  {
   "cell_type": "markdown",
   "id": "1704a451",
   "metadata": {},
   "source": [
    "### 10. Hex Color Code"
   ]
  },
  {
   "cell_type": "code",
   "execution_count": null,
   "id": "1f731a15",
   "metadata": {},
   "outputs": [],
   "source": [
    "# Enter your code here. Read input from STDIN. Print output to STDOUT\n",
    "\n",
    "import re \n",
    "\n",
    "for i in range(int(input())):\n",
    "    m = re.findall(r\"(?!^)#([a-f0-9]{6}|[a-f0-9]{3})[^\\n]\",input(),re.IGNORECASE)\n",
    "    if m:\n",
    "        for s in m:\n",
    "            print('#'+s)\n"
   ]
  },
  {
   "cell_type": "markdown",
   "id": "944be424",
   "metadata": {},
   "source": [
    "### 11. HTML Parser - Part 1"
   ]
  },
  {
   "cell_type": "code",
   "execution_count": null,
   "id": "ced895db",
   "metadata": {},
   "outputs": [],
   "source": [
    "# Enter your code here. Read input from STDIN. Print output to STDOUT\n",
    "import re\n",
    "from html.parser import HTMLParser\n",
    "\n",
    "\n",
    "class MyHTMLParser(HTMLParser):\n",
    "    def handle_starttag(self, tag, attrs):\n",
    "        print (\"Start : %s\" % tag)\n",
    "        for attr, value in attrs:\n",
    "            print (\"->\", attr, \">\", value)\n",
    "    def handle_endtag(self, tag):\n",
    "        print (\"End   : %s\" % tag)\n",
    "    def handle_startendtag(self, tag, attrs):\n",
    "        print (\"Empty : %s\" % tag)\n",
    "        for attr, value in attrs:\n",
    "            print (\"->\", attr, \">\", value)\n",
    "\n",
    "string = ''\n",
    "for _ in range(int(input())):\n",
    "    string += input()\n",
    "\n",
    "parser = MyHTMLParser()\n",
    "parser.feed(string)\n"
   ]
  },
  {
   "cell_type": "markdown",
   "id": "5bb33961",
   "metadata": {},
   "source": [
    "### 12. HTML Parser - Part 2\n"
   ]
  },
  {
   "cell_type": "code",
   "execution_count": null,
   "id": "c5335fe3",
   "metadata": {},
   "outputs": [],
   "source": [
    "from html.parser import HTMLParser\n",
    "\n",
    "class MyHTMLParser(HTMLParser):\n",
    "    def handle_comment(self, data):\n",
    "        if (len(data.split('\\n')) != 1):\n",
    "            print(\">>> Multi-line Comment\")\n",
    "        else:\n",
    "            print(\">>> Single-line Comment\")\n",
    "        print(data.replace(\"\\r\", \"\\n\"))\n",
    "    def handle_data(self, data):\n",
    "        if data.strip():\n",
    "            print(\">>> Data\")\n",
    "            print(data)\n",
    "html = \"\"       \n",
    "for i in range(int(input())):\n",
    "    html += input().rstrip()\n",
    "    html += '\\n'\n",
    "    \n",
    "parser = MyHTMLParser()\n",
    "parser.feed(html)\n",
    "parser.close()\n"
   ]
  },
  {
   "cell_type": "markdown",
   "id": "0d3724e7",
   "metadata": {},
   "source": [
    "### 13. Detect HTML Tags, Attributes and Attribute Values"
   ]
  },
  {
   "cell_type": "code",
   "execution_count": null,
   "id": "40046f25",
   "metadata": {},
   "outputs": [],
   "source": [
    "# Enter your code here. Read input from STDIN. Print output to STDOUT\n",
    "\n",
    "from html.parser import HTMLParser\n",
    "class MyHTMLParser(HTMLParser):\n",
    "    def handle_starttag(self, tag, attrs):\n",
    "        print(tag)\n",
    "        [print('-> {} > {}'.format(*attr)) for attr in attrs]\n",
    "        \n",
    "html = '\\n'.join([input() for _ in range(int(input()))])\n",
    "parser = MyHTMLParser()\n",
    "parser.feed(html)\n",
    "parser.close()\n"
   ]
  },
  {
   "cell_type": "markdown",
   "id": "b478c98f",
   "metadata": {},
   "source": [
    "### 14. Validating UID"
   ]
  },
  {
   "cell_type": "code",
   "execution_count": null,
   "id": "51b9be34",
   "metadata": {},
   "outputs": [],
   "source": [
    "# Enter your code here. Read input from STDIN. Print output to STDOUT\n",
    "import re\n",
    "\n",
    "for i in range(int(input())):\n",
    "    N = input().strip()\n",
    "    if N.isalnum() and len(N) == 10:\n",
    "        if bool(re.search(r'(.*[A-Z]){2,}',N)) and bool(re.search(r'(.*[0-9]){3,}',N)):\n",
    "            if re.search(r'.*(.).*\\1+.*',N):\n",
    "                print ('Invalid')\n",
    "            else:\n",
    "                print ('Valid')\n",
    "        else:\n",
    "            print ('Invalid')\n",
    "    else:\n",
    "        print ('Invalid')\n"
   ]
  },
  {
   "cell_type": "markdown",
   "id": "8f2c5372",
   "metadata": {},
   "source": [
    "### 15. Validating Credit Card Numbers"
   ]
  },
  {
   "cell_type": "code",
   "execution_count": null,
   "id": "64a5bff6",
   "metadata": {},
   "outputs": [],
   "source": [
    "# Enter your code here. Read input from STDIN. Print output to STDOUT\n",
    "import re\n",
    "\n",
    "if __name__ == \"__main__\":\n",
    "    t = int(input().strip())\n",
    "    \n",
    "    for _ in range(t):\n",
    "        num = \"\".join(input())\n",
    "        if (re.match(r'^[456]', num) and\n",
    "            (re.match(r'([\\d]{4}-){3}[\\d]{4}$', num) or\n",
    "             re.match(r'[\\d]{16}', num)) and\n",
    "            not re.search(r'(\\d)\\1{3,}', num.replace(\"-\", \"\"))):\n",
    "            print(\"Valid\")\n",
    "        else:\n",
    "            print(\"Invalid\")\n"
   ]
  },
  {
   "cell_type": "markdown",
   "id": "dfae0c17",
   "metadata": {},
   "source": [
    "### 16. Validating Postal Codes"
   ]
  },
  {
   "cell_type": "code",
   "execution_count": null,
   "id": "ff458a78",
   "metadata": {},
   "outputs": [],
   "source": [
    "regex_integer_in_range = r\"^[1-9][\\d]{5}$\"\t# Do not delete 'r'.\n",
    "regex_alternating_repetitive_digit_pair = r\"(\\d)(?=\\d\\1)\"\t# Do not delete 'r'."
   ]
  },
  {
   "cell_type": "markdown",
   "id": "60fe5879",
   "metadata": {},
   "source": [
    "### 17. Matrix Script"
   ]
  },
  {
   "cell_type": "code",
   "execution_count": null,
   "id": "1eca5a63",
   "metadata": {},
   "outputs": [],
   "source": [
    "#!/bin/python3\n",
    "\n",
    "import math\n",
    "import os\n",
    "import random\n",
    "import re\n",
    "import sys\n",
    "\n",
    "\n",
    "\n",
    "\n",
    "first_multiple_input = input().rstrip().split()\n",
    "\n",
    "n = int(first_multiple_input[0])\n",
    "\n",
    "m = int(first_multiple_input[1])\n",
    "\n",
    "matrix = []\n",
    "\n",
    "for _ in range(n):\n",
    "    matrix_item = input()\n",
    "    matrix.append(matrix_item)\n",
    "\n",
    "decoded_message = \"\"\n",
    "\n",
    "for column in range(m):\n",
    "    for row in range(n):\n",
    "        decoded_message += matrix[row][column]        \n",
    "\n",
    "print(re.sub(r\"(?<=\\w)([^\\w]+)(?=\\w)\", \" \", decoded_message))\n"
   ]
  }
 ],
 "metadata": {
  "kernelspec": {
   "display_name": "Python 3",
   "language": "python",
   "name": "python3"
  },
  "language_info": {
   "codemirror_mode": {
    "name": "ipython",
    "version": 3
   },
   "file_extension": ".py",
   "mimetype": "text/x-python",
   "name": "python",
   "nbconvert_exporter": "python",
   "pygments_lexer": "ipython3",
   "version": "3.8.8"
  }
 },
 "nbformat": 4,
 "nbformat_minor": 5
}
