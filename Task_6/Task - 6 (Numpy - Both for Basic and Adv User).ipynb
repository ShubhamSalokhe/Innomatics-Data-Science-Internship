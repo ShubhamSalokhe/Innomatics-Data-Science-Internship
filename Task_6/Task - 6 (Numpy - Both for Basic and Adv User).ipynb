{
 "cells": [
  {
   "cell_type": "markdown",
   "id": "44e9e7dd",
   "metadata": {},
   "source": [
    "## Innomatics Research Labs\n",
    "**SHUBHAM SALOKHE**"
   ]
  },
  {
   "cell_type": "markdown",
   "id": "5abcdc66",
   "metadata": {},
   "source": [
    "Task - 6 (Numpy - Both for Basic and Adv User)"
   ]
  },
  {
   "cell_type": "markdown",
   "id": "7164a2d3",
   "metadata": {},
   "source": [
    "### 1. Arrays"
   ]
  },
  {
   "cell_type": "code",
   "execution_count": null,
   "id": "aae3594e",
   "metadata": {},
   "outputs": [],
   "source": [
    "def arrays(arr):\n",
    "    lst= list(map(float,arr))\n",
    "    a = numpy.array(lst)\n",
    "    flip =numpy.flip(a)\n",
    "    return flip\n",
    "    # complete this function\n",
    "    # use numpy.array\n"
   ]
  },
  {
   "cell_type": "markdown",
   "id": "41d0f0a9",
   "metadata": {},
   "source": [
    "### 2. Shape and Reshape"
   ]
  },
  {
   "cell_type": "code",
   "execution_count": null,
   "id": "d00fae4f",
   "metadata": {},
   "outputs": [],
   "source": [
    "import numpy as np\n",
    "inp = input().strip().split()\n",
    "integer = list(map(int,inp))\n",
    "arrange = np.reshape(integer,(3,3))\n",
    "print(arrange)\n"
   ]
  },
  {
   "cell_type": "markdown",
   "id": "e2fc95f5",
   "metadata": {},
   "source": [
    "### 3. Transpose and Flatten"
   ]
  },
  {
   "cell_type": "code",
   "execution_count": null,
   "id": "a8dd3e76",
   "metadata": {},
   "outputs": [],
   "source": [
    "import numpy as np\n",
    "\n",
    "N , M = list(map(int,input().split()))\n",
    "# list comprehence \n",
    "arr = np.array([input().strip().split() for i in range(N)],int)\n",
    "print(np.transpose(arr))\n",
    "print(arr.flatten())\n",
    "\n"
   ]
  },
  {
   "cell_type": "markdown",
   "id": "abb5177b",
   "metadata": {},
   "source": [
    "### 4. Concatenate\n"
   ]
  },
  {
   "cell_type": "code",
   "execution_count": null,
   "id": "81354368",
   "metadata": {},
   "outputs": [],
   "source": [
    "import numpy as np\n",
    "N, M, P = map(int,input().strip().split())\n",
    "\n",
    "arr = np.array([input().strip().split() for i in range(N+M)],int)\n",
    "\n",
    "print(arr)\n",
    "\n"
   ]
  },
  {
   "cell_type": "markdown",
   "id": "c8ea4ffd",
   "metadata": {},
   "source": [
    "### 5. Zeros and Ones"
   ]
  },
  {
   "cell_type": "code",
   "execution_count": null,
   "id": "74a1fbfc",
   "metadata": {},
   "outputs": [],
   "source": [
    "import numpy as np\n",
    "\n",
    "num= tuple(map(int,input().split()))\n",
    "\n",
    "print(np.zeros((num),dtype=int))\n",
    "print(np.ones((num),dtype =int))\n"
   ]
  },
  {
   "cell_type": "markdown",
   "id": "982b2848",
   "metadata": {},
   "source": [
    "### 6. Eye and Identity"
   ]
  },
  {
   "cell_type": "code",
   "execution_count": null,
   "id": "9734ff54",
   "metadata": {},
   "outputs": [],
   "source": [
    "import numpy as np\n",
    "\n",
    "np.set_printoptions(legacy='1.13')\n",
    "X,Y= map(int,input().split())\n",
    "\n",
    "print(np.eye(X, Y)) \n"
   ]
  },
  {
   "cell_type": "markdown",
   "id": "aff30846",
   "metadata": {},
   "source": [
    "### 7. Array Mathematics"
   ]
  },
  {
   "cell_type": "code",
   "execution_count": null,
   "id": "af06526d",
   "metadata": {},
   "outputs": [],
   "source": [
    "import numpy as np\n",
    "\n",
    "N,M =map(int,input().split())\n",
    "\n",
    "A = np.array([list(map(int,input().split())) for i in range(N)])\n",
    "B = np.array([list(map(int,input().split()))for i in range(N)])\n",
    "\n",
    "print(np.add(A,B))\n",
    "print(np.subtract(A,B))\n",
    "print(np.multiply(A,B))\n",
    "print(np.floor_divide(A,B))\n",
    "print(np.mod(A,B))\n",
    "print(np.power(A,B))\n",
    "\n",
    "\n"
   ]
  },
  {
   "cell_type": "markdown",
   "id": "c906ac6f",
   "metadata": {},
   "source": [
    "### 8. Floor, Ceil and Rint"
   ]
  },
  {
   "cell_type": "code",
   "execution_count": null,
   "id": "99e003d6",
   "metadata": {},
   "outputs": [],
   "source": [
    "import numpy as np\n",
    "\n",
    "np.set_printoptions(legacy='1.13')\n",
    "\n",
    "A = np.array(list(map(float,input().split())))\n",
    "print(np.floor(A))\n",
    "print(np.ceil(A))\n",
    "print(np.rint(A))"
   ]
  },
  {
   "cell_type": "markdown",
   "id": "7351275f",
   "metadata": {},
   "source": [
    "### 9. Sum and Prod"
   ]
  },
  {
   "cell_type": "code",
   "execution_count": null,
   "id": "5d0b8d74",
   "metadata": {},
   "outputs": [],
   "source": [
    "import numpy as np\n",
    "\n",
    "N,M = map(int,input().strip().split())\n",
    "\n",
    "my_array = np.array([input().split() for _ in range(N)],int)\n",
    "print(np.prod(np.sum(my_array,axis=0),axis=None))\n"
   ]
  },
  {
   "cell_type": "markdown",
   "id": "04222f9d",
   "metadata": {},
   "source": [
    "### 10. Min and Max"
   ]
  },
  {
   "cell_type": "code",
   "execution_count": null,
   "id": "ca78e6f5",
   "metadata": {},
   "outputs": [],
   "source": [
    "import numpy\n",
    "\n",
    "N,M = map(int,input().split())\n",
    "\n",
    "A = numpy.array([input().split() for _ in range(N)],int)\n",
    "print(numpy.max(numpy.min(A,axis=1),axis=0))\n"
   ]
  },
  {
   "cell_type": "markdown",
   "id": "8fdc7f6f",
   "metadata": {},
   "source": [
    "### 11. Mean, Var, and Std"
   ]
  },
  {
   "cell_type": "code",
   "execution_count": null,
   "id": "6fe0ef49",
   "metadata": {},
   "outputs": [],
   "source": [
    "import numpy\n",
    "\n",
    "n,m=map(int,input().split())\n",
    "\n",
    "a=numpy.array([list(map(int,input().split())) for i in range(n)])\n",
    "print(numpy.mean(a,axis=1))\n",
    "print(numpy.var(a,axis=0))\n",
    "print(round(numpy.std(a,None), 11))\n"
   ]
  },
  {
   "cell_type": "markdown",
   "id": "98cc6afc",
   "metadata": {},
   "source": [
    "### 12. Dot and Cross\n"
   ]
  },
  {
   "cell_type": "code",
   "execution_count": null,
   "id": "6d4b89de",
   "metadata": {},
   "outputs": [],
   "source": [
    "import numpy as np\n",
    "\n",
    "n=int(input())\n",
    "for _ in range(2):\n",
    "    l=list()\n",
    "    for x in range(n):\n",
    "        m=list(map(int,input().split()))\n",
    "        l.append(m)\n",
    "    if _ == 0:\n",
    "        a=np.array(l)\n",
    "    if _ == 1:\n",
    "        b=np.array(l)\n",
    "print(a.dot(b))\n"
   ]
  },
  {
   "cell_type": "markdown",
   "id": "cf6a406e",
   "metadata": {},
   "source": [
    "### 13. Inner and Outer"
   ]
  },
  {
   "cell_type": "code",
   "execution_count": null,
   "id": "59337d79",
   "metadata": {},
   "outputs": [],
   "source": [
    "import numpy\n",
    "\n",
    "A = numpy.array(input().split(),int)\n",
    "B = numpy.array(input().split(),int)\n",
    "\n",
    "print(numpy.inner(A,B),numpy.outer(A,B),sep ='\\n')\n",
    "\n"
   ]
  },
  {
   "cell_type": "markdown",
   "id": "34388aa6",
   "metadata": {},
   "source": [
    "### 14. Polynomials\n"
   ]
  },
  {
   "cell_type": "code",
   "execution_count": null,
   "id": "cc54bc1f",
   "metadata": {},
   "outputs": [],
   "source": [
    "import numpy \n",
    "\n",
    "a = list(map(float, input().split()))\n",
    "\n",
    "print(numpy.polyval(a, float(input())))\n",
    "\n",
    "\n"
   ]
  },
  {
   "cell_type": "markdown",
   "id": "13a5a30c",
   "metadata": {},
   "source": [
    "### 15. Linear Algebra"
   ]
  },
  {
   "cell_type": "code",
   "execution_count": null,
   "id": "46646b1e",
   "metadata": {},
   "outputs": [],
   "source": [
    "import numpy\n",
    "\n",
    "N = int(input())\n",
    "\n",
    "arr = numpy.array([input().split() for _ in range(N)],float)\n",
    "\n",
    "numpy.set_printoptions(legacy='1.13')\n",
    "\n",
    "print(numpy.linalg.det(arr))\n",
    "\n"
   ]
  }
 ],
 "metadata": {
  "kernelspec": {
   "display_name": "Python 3",
   "language": "python",
   "name": "python3"
  },
  "language_info": {
   "codemirror_mode": {
    "name": "ipython",
    "version": 3
   },
   "file_extension": ".py",
   "mimetype": "text/x-python",
   "name": "python",
   "nbconvert_exporter": "python",
   "pygments_lexer": "ipython3",
   "version": "3.8.8"
  }
 },
 "nbformat": 4,
 "nbformat_minor": 5
}
