{
 "cells": [
  {
   "cell_type": "markdown",
   "id": "ad9afb85",
   "metadata": {},
   "source": [
    "# Task - 3 (Python Maths)\n",
    "**SHUBHAM SALOKHE**"
   ]
  },
  {
   "cell_type": "markdown",
   "id": "25030f0a",
   "metadata": {},
   "source": [
    "## 1. Polar Coordinates"
   ]
  },
  {
   "cell_type": "code",
   "execution_count": null,
   "id": "d6b11920",
   "metadata": {},
   "outputs": [],
   "source": [
    "# Enter your code here. Read input from STDIN. Print output to STDOUT\n",
    "import cmath\n",
    "\n",
    "r, angle = cmath.polar(complex(input()))\n",
    "    # Init signature: complex(real=0, imag=0)\n",
    "\n",
    "print(r)\n",
    "print(angle)\n"
   ]
  },
  {
   "cell_type": "markdown",
   "id": "fa727e79",
   "metadata": {},
   "source": [
    "## 2. Find Angle MBC\n",
    "\n"
   ]
  },
  {
   "cell_type": "code",
   "execution_count": null,
   "id": "a45e8dfa",
   "metadata": {},
   "outputs": [],
   "source": [
    "# Enter your code here. Read input from STDIN. Print output to STDOUT\n",
    "import math\n",
    "ab,bc = int(input()),int(input())\n",
    "angle = str(round((math.degrees(math.atan2(ab,bc)))))\n",
    "degree=chr(176)  \n",
    "print(angle,degree, sep='')\n"
   ]
  },
  {
   "cell_type": "markdown",
   "id": "f8a073df",
   "metadata": {},
   "source": [
    "## 3. Triangle Quest 2"
   ]
  },
  {
   "cell_type": "code",
   "execution_count": null,
   "id": "c3f83695",
   "metadata": {},
   "outputs": [],
   "source": [
    "\n",
    "for i in range(1,int(input())+1): #More than 2 lines will result in 0 score. Do not leave a blank line also\n",
    "    print((((10**i)-1)//(9))**2)\n"
   ]
  },
  {
   "cell_type": "markdown",
   "id": "66a464a8",
   "metadata": {},
   "source": [
    "## 4. Mod Divmod"
   ]
  },
  {
   "cell_type": "code",
   "execution_count": null,
   "id": "84c566fa",
   "metadata": {},
   "outputs": [],
   "source": [
    "# Enter your code here. Read input from STDIN. Print output to STDOUT\n",
    "A = int(input())\n",
    "B = int(input())\n",
    "\n",
    "print(A//B)\n",
    "print(A%B)\n",
    "print(divmod(A, B))\n"
   ]
  },
  {
   "cell_type": "markdown",
   "id": "b1df65c7",
   "metadata": {},
   "source": [
    "## 5. Power - Mod Power"
   ]
  },
  {
   "cell_type": "code",
   "execution_count": null,
   "id": "8ad16d0f",
   "metadata": {},
   "outputs": [],
   "source": [
    "# Enter your code here. Read input from STDIN. Print output to STDOUT\n",
    "a = int(input())\n",
    "b = int(input())\n",
    "m = int(input())\n",
    "print(a**b)\n",
    "print(pow(a,b,m))\n"
   ]
  },
  {
   "cell_type": "markdown",
   "id": "75479fa5",
   "metadata": {},
   "source": [
    "## 6. Integers Come In All Sizes"
   ]
  },
  {
   "cell_type": "code",
   "execution_count": null,
   "id": "fa09f9df",
   "metadata": {},
   "outputs": [],
   "source": [
    "# Enter your code here. Read input from STDIN. Print output to STDOUT\n",
    "a = int(input())\n",
    "b = int(input())\n",
    "c = int(input())\n",
    "d = int(input())\n",
    "\n",
    "print((a**b)+(c**d))\n"
   ]
  },
  {
   "cell_type": "markdown",
   "id": "2558a820",
   "metadata": {},
   "source": [
    "## 7. Triangle Quest"
   ]
  },
  {
   "cell_type": "code",
   "execution_count": null,
   "id": "4291bc16",
   "metadata": {},
   "outputs": [],
   "source": [
    "for i in range(1,int(input())): #More than 2 lines will result in 0 score. Do not leave a blank line also\n",
    "    print(int(i*((  10**i - 1 )/9 )))\n"
   ]
  }
 ],
 "metadata": {
  "kernelspec": {
   "display_name": "Python 3",
   "language": "python",
   "name": "python3"
  },
  "language_info": {
   "codemirror_mode": {
    "name": "ipython",
    "version": 3
   },
   "file_extension": ".py",
   "mimetype": "text/x-python",
   "name": "python",
   "nbconvert_exporter": "python",
   "pygments_lexer": "ipython3",
   "version": "3.8.8"
  }
 },
 "nbformat": 4,
 "nbformat_minor": 5
}
