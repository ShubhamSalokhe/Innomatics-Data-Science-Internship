{
 "cells": [
  {
   "cell_type": "markdown",
   "id": "c1e1f695",
   "metadata": {},
   "source": [
    "# Task - 2 (Data Types)\n",
    "**SHUBHAM SALOKHE**"
   ]
  },
  {
   "cell_type": "markdown",
   "id": "d54edbba",
   "metadata": {},
   "source": [
    "## 1. List Comprehensions"
   ]
  },
  {
   "cell_type": "code",
   "execution_count": null,
   "id": "3a86dcef",
   "metadata": {},
   "outputs": [],
   "source": [
    "if __name__ == '__main__':\n",
    "    x = int(input())\n",
    "    y = int(input())\n",
    "    z = int(input())\n",
    "    n = int(input())\n",
    "    x1 = [p for p in range(x+1)]\n",
    "    y1 = [q for q in range(y+1)]\n",
    "    z1 = [r for r in range(z+1)]\n",
    "    permutation = [[i,j,k] for i in x1 for j in y1 for k in z1]\n",
    "    result = [l for l in permutation if sum(l) !=n]\n",
    "    print(result)\n"
   ]
  },
  {
   "cell_type": "markdown",
   "id": "db337940",
   "metadata": {},
   "source": [
    "## 2. Find the Runner-Up Score!\n"
   ]
  },
  {
   "cell_type": "code",
   "execution_count": null,
   "id": "d0fc858c",
   "metadata": {},
   "outputs": [],
   "source": [
    "if __name__ == '__main__':\n",
    "    n = int(input())\n",
    "    arr = map(int, input().split())\n",
    "    list = list(arr)\n",
    "    list.sort()\n",
    "    single_occure=[]\n",
    "    for i in list:\n",
    "        if i not in single_occure:\n",
    "            single_occure.append(i)\n",
    "            single_occure.sort()\n",
    "        else:\n",
    "            pass\n",
    "    print(single_occure[-2])"
   ]
  },
  {
   "cell_type": "markdown",
   "id": "aec5fadc",
   "metadata": {},
   "source": [
    "## 3. Nested Lists"
   ]
  },
  {
   "cell_type": "code",
   "execution_count": null,
   "id": "5baff682",
   "metadata": {},
   "outputs": [],
   "source": [
    "if __name__ == '__main__':\n",
    "    result=[]\n",
    "    grade = []\n",
    "    for _ in range(int(input())):\n",
    "        name = input()\n",
    "        score = float(input())\n",
    "        result.append([name,score])\n",
    "        grade.append(score)\n",
    "    grade = sorted(set(grade))\n",
    "    marks = grade[1]\n",
    "    name = []\n",
    "    for val in result:\n",
    "        if marks == val[1]:\n",
    "            name.append(val[0])\n",
    "    name.sort()\n",
    "    for nm in name:\n",
    "        print(nm)"
   ]
  },
  {
   "cell_type": "markdown",
   "id": "5881268c",
   "metadata": {},
   "source": [
    "## 4. Finding the percentage"
   ]
  },
  {
   "cell_type": "code",
   "execution_count": null,
   "id": "84a31e3c",
   "metadata": {},
   "outputs": [],
   "source": [
    "if __name__ == '__main__':\n",
    "    n = int(input())\n",
    "    student_marks = {}\n",
    "    for _ in range(n):\n",
    "        name, *line = input().split()\n",
    "        scores = list(map(float, line))\n",
    "        student_marks[name] = scores\n",
    "    query_name = input()\n",
    "    avg = sum(student_marks[query_name])/len(student_marks[query_name])\n",
    "    decimal =\"{:.2f}\".format(avg)\n",
    "    print(decimal)\n"
   ]
  },
  {
   "cell_type": "markdown",
   "id": "5e4429dd",
   "metadata": {},
   "source": [
    "## 5. Lists"
   ]
  },
  {
   "cell_type": "code",
   "execution_count": null,
   "id": "9c455fcc",
   "metadata": {},
   "outputs": [],
   "source": [
    "if __name__ == '__main__':\n",
    "    N = int(input())\n",
    "    list =[]\n",
    "    \n",
    "    for i in range(N):\n",
    "        s_line = input().split(\"\\n\")   # \\n line breaker \n",
    "        for j in s_line:\n",
    "            s_line1 = j.split()\n",
    "            if s_line1[0]==\"insert\":\n",
    "                list.insert(int(s_line1[1]),int(s_line1[2]))\n",
    "            elif s_line1[0]==\"print\":\n",
    "                print(list)\n",
    "            elif s_line1[0]==\"remove\":\n",
    "                list.remove(int(s_line1[1]))\n",
    "            elif s_line1[0]==\"append\":\n",
    "                list.append(int(s_line1[1]))\n",
    "            elif s_line1[0]==\"sort\":\n",
    "                list.sort()\n",
    "            elif s_line1[0]==\"pop\":\n",
    "                list.pop()\n",
    "            elif s_line1[0]==\"reverse\":\n",
    "                list.reverse()"
   ]
  },
  {
   "cell_type": "markdown",
   "id": "6f579486",
   "metadata": {},
   "source": [
    "## 6. Tuples"
   ]
  },
  {
   "cell_type": "code",
   "execution_count": null,
   "id": "2ca943c1",
   "metadata": {},
   "outputs": [],
   "source": [
    "if __name__ == '__main__':\n",
    "    n = int(raw_input())\n",
    "    integer_list = tuple(map(int, raw_input().split()))\n",
    "    \n",
    "    print(hash(integer_list))\n"
   ]
  },
  {
   "cell_type": "markdown",
   "id": "f488e6b6",
   "metadata": {},
   "source": [
    "## 7. Introduction to Sets"
   ]
  },
  {
   "cell_type": "code",
   "execution_count": null,
   "id": "f555026a",
   "metadata": {},
   "outputs": [],
   "source": [
    "\n",
    "\n",
    "def average(array):\n",
    "    # your code goes here\n",
    "    height =set(arr)\n",
    "\n",
    "    sum_arr = sum(height)\n",
    "    avg = sum_arr/len(height)\n",
    "    \n",
    "    return \"{:.3f}\".format(avg)\n",
    "\n"
   ]
  },
  {
   "cell_type": "markdown",
   "id": "c64ff126",
   "metadata": {},
   "source": [
    "## 8. No Idea!"
   ]
  },
  {
   "cell_type": "code",
   "execution_count": null,
   "id": "60ef27d4",
   "metadata": {},
   "outputs": [],
   "source": [
    "# Enter your code here. Read input from STDIN. Print output to STDOUT\n",
    "space = map(int,input().split())\n",
    "n_int = map(int,input().split())\n",
    "m_A_int = set(map(int,input().split()))\n",
    "m_B_int = set(map(int,input().split()))\n",
    "\n",
    "happiness= 0\n",
    "for i in n_int:\n",
    "    if i in m_A_int:\n",
    "        happiness = happiness+1\n",
    "    elif i in m_B_int:\n",
    "        happiness = happiness-1\n",
    "        \n",
    "print(happiness)\n"
   ]
  },
  {
   "cell_type": "markdown",
   "id": "72852118",
   "metadata": {},
   "source": [
    "## 9. Symmetric Difference"
   ]
  },
  {
   "cell_type": "code",
   "execution_count": null,
   "id": "b85e4bab",
   "metadata": {},
   "outputs": [],
   "source": [
    "# Enter your code here. Read input from STDIN. Print output to STDOUT\n",
    "int(input())\n",
    "N = input().split()\n",
    "Nint = set(list(map(int, N)))\n",
    "int(input())\n",
    "M = input().split()\n",
    "Mint = set(list(map(int, M)))\n",
    "res = []\n",
    "for i in list(Nint.difference(Mint)):\n",
    "    res.append(i)\n",
    "for j in list(Mint.difference(Nint)):\n",
    "    res.append(j)\n",
    "for k in sorted(res):\n",
    "    print(k)\n"
   ]
  },
  {
   "cell_type": "markdown",
   "id": "cc76945f",
   "metadata": {},
   "source": [
    "## 10. Set .add()"
   ]
  },
  {
   "cell_type": "code",
   "execution_count": null,
   "id": "53363850",
   "metadata": {},
   "outputs": [],
   "source": [
    "# Enter your code here. Read input from STDIN. Print output to STDOUT\n",
    "N = int(input())\n",
    "country_names= (input() for i in range(N))\n",
    "\n",
    "set =set(country_names)\n",
    "print(len(set))\n"
   ]
  },
  {
   "cell_type": "markdown",
   "id": "af289e99",
   "metadata": {},
   "source": [
    "## 11. Set .discard(), .remove() & .pop()"
   ]
  },
  {
   "cell_type": "code",
   "execution_count": null,
   "id": "133c624c",
   "metadata": {},
   "outputs": [],
   "source": [
    "n = int(input())\n",
    "s = set(map(int, input().split()))\n",
    "\n",
    "N = int(input())\n",
    "for i in range(N):\n",
    "    q = list(input().strip().split(' '))\n",
    "    if q[0] == 'remove':\n",
    "        s.remove(int(q[1]))\n",
    "    elif q[0] == 'discard':\n",
    "        s.discard(int(q[1]))\n",
    "    elif q[0] == 'pop':\n",
    "        s.pop()\n",
    "    \n",
    "print(sum(s))\n"
   ]
  },
  {
   "cell_type": "markdown",
   "id": "45a54afa",
   "metadata": {},
   "source": [
    "## 12. Set .union() Operation"
   ]
  },
  {
   "cell_type": "code",
   "execution_count": null,
   "id": "0ef5fc4e",
   "metadata": {},
   "outputs": [],
   "source": [
    "# Enter your code here. Read input from STDIN. Print output to STDOUT\n",
    "n1 = int(input())\n",
    "n1_val = (set(map(int,input().split())))\n",
    "n2 = int(input())\n",
    "n2_val = (set(map(int,input().split())))\n",
    "N1_N2_union = n1_val.union(n2_val)\n",
    "print(len(N1_N2_union))\n"
   ]
  },
  {
   "cell_type": "markdown",
   "id": "0aa7b03f",
   "metadata": {},
   "source": [
    "## 13. Set .intersection() Operation\n",
    "\n"
   ]
  },
  {
   "cell_type": "code",
   "execution_count": null,
   "id": "4c548c7e",
   "metadata": {},
   "outputs": [],
   "source": [
    "# Enter your code here. Read input from STDIN. Print output to STDOUT\n",
    "n1 = int(input())\n",
    "n1_val = (set(map(int,input().split())))\n",
    "n2 = int(input())\n",
    "n2_val = (set(map(int,input().split())))\n",
    "N1_N2_intersection = n1_val.intersection(n2_val)\n",
    "print(len(N1_N2_intersection))\n"
   ]
  },
  {
   "cell_type": "markdown",
   "id": "04120296",
   "metadata": {},
   "source": [
    "## 14. Set .difference() Operation\n"
   ]
  },
  {
   "cell_type": "code",
   "execution_count": null,
   "id": "b4eddac9",
   "metadata": {},
   "outputs": [],
   "source": [
    "# Enter your code here. Read input from STDIN. Print output to STDOUT\n",
    "n1 = int(input())\n",
    "n1_val = (set(map(int,input().split())))\n",
    "n2 = int(input())\n",
    "n2_val = (set(map(int,input().split())))\n",
    "diff = n1_val.difference(n2_val)\n",
    "print(len(diff))\n"
   ]
  },
  {
   "cell_type": "markdown",
   "id": "68b67012",
   "metadata": {},
   "source": [
    "## 15. Set .symmetric_difference() Operation"
   ]
  },
  {
   "cell_type": "code",
   "execution_count": null,
   "id": "e3f3466f",
   "metadata": {},
   "outputs": [],
   "source": [
    "# Enter your code here. Read input from STDIN. Print output to STDOUT\n",
    "n1 = int(input())\n",
    "n1_val = (set(map(int,input().split())))\n",
    "n2 = int(input())\n",
    "n2_val = (set(map(int,input().split())))\n",
    "symm_diff = n1_val.symmetric_difference(n2_val)\n",
    "print(len(symm_diff))\n"
   ]
  },
  {
   "cell_type": "markdown",
   "id": "9d9951e5",
   "metadata": {},
   "source": [
    "## 16. Set Mutations"
   ]
  },
  {
   "cell_type": "code",
   "execution_count": null,
   "id": "74b8b29d",
   "metadata": {},
   "outputs": [],
   "source": [
    "# Enter your code here. Read input from STDIN. Print output to STDOUT\n",
    "\n",
    "n = int(input())\n",
    "a = set(map(int,input().split()))\n",
    "N = int(input())\n",
    "for i in range(N):\n",
    "    cmd = input().split()\n",
    "    opt = cmd[0]\n",
    "    s = set(map(int,input().split()))\n",
    "    if (opt == 'update'):\n",
    "        a.update(s)\n",
    "    elif (opt == 'intersection_update'):\n",
    "        a.intersection_update(s)\n",
    "    elif (opt == 'difference_update'):\n",
    "        a.difference_update(s)\n",
    "    elif (opt == 'symmetric_difference_update'):\n",
    "        a.symmetric_difference_update(s)\n",
    "print(sum(a))\n"
   ]
  },
  {
   "cell_type": "markdown",
   "id": "778a8e73",
   "metadata": {},
   "source": [
    "## 17. The Captain's Room"
   ]
  },
  {
   "cell_type": "code",
   "execution_count": null,
   "id": "31b5db3d",
   "metadata": {},
   "outputs": [],
   "source": [
    "# Enter your code here. Read input from STDIN. Print output to STDOUT\n",
    "K, A = int(input()), list(map(int, input().split()))\n",
    "B = set(A)\n",
    "print((sum(B) * K  - sum(A))//(K - 1))\n"
   ]
  },
  {
   "cell_type": "markdown",
   "id": "18d3f32b",
   "metadata": {},
   "source": [
    "## 18. Check Subset"
   ]
  },
  {
   "cell_type": "code",
   "execution_count": null,
   "id": "860e5781",
   "metadata": {},
   "outputs": [],
   "source": [
    "# Enter your code here. Read input from STDIN. Print output to STDOUT\n",
    "for i in range(int(input())):\n",
    "    _, a = input(), set(map(int, input().split()))\n",
    "    _, b = input(), set(map(int, input().split()))\n",
    "    print(a.issubset(b))\n"
   ]
  },
  {
   "cell_type": "markdown",
   "id": "78e34513",
   "metadata": {},
   "source": [
    "## 19. Check Strict Superset"
   ]
  },
  {
   "cell_type": "code",
   "execution_count": null,
   "id": "2fab4e91",
   "metadata": {},
   "outputs": [],
   "source": [
    "# Enter your code here. Read input from STDIN. Print output to STDOUT\n",
    "A = set(map(int, input().split()))\n",
    "N = int(input())\n",
    "T = True\n",
    "for _ in range(N):\n",
    "    B = set(map(int, input().split()))\n",
    "    T = T and (len(A) > len(B)) and (B.issubset(A))\n",
    "print(T)\n"
   ]
  }
 ],
 "metadata": {
  "kernelspec": {
   "display_name": "Python 3",
   "language": "python",
   "name": "python3"
  },
  "language_info": {
   "codemirror_mode": {
    "name": "ipython",
    "version": 3
   },
   "file_extension": ".py",
   "mimetype": "text/x-python",
   "name": "python",
   "nbconvert_exporter": "python",
   "pygments_lexer": "ipython3",
   "version": "3.8.8"
  }
 },
 "nbformat": 4,
 "nbformat_minor": 5
}
