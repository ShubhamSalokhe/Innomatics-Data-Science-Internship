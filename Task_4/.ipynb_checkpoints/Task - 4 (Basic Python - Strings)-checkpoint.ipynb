{
 "cells": [
  {
   "cell_type": "markdown",
   "id": "a06f187f",
   "metadata": {},
   "source": [
    "# Task - 4 (Basic Python - Strings)\n",
    "**SHUBHAM SALOKHE**"
   ]
  },
  {
   "cell_type": "markdown",
   "id": "a91a3a9d",
   "metadata": {},
   "source": [
    "## 1. sWAP cASE"
   ]
  },
  {
   "cell_type": "code",
   "execution_count": 1,
   "id": "3b5c0fea",
   "metadata": {},
   "outputs": [],
   "source": [
    "def swap_case(s):\n",
    "    return s.swapcase()"
   ]
  },
  {
   "cell_type": "markdown",
   "id": "b6c250f3",
   "metadata": {},
   "source": [
    "## 2. String Split and Join"
   ]
  },
  {
   "cell_type": "code",
   "execution_count": null,
   "id": "ebe092ca",
   "metadata": {},
   "outputs": [],
   "source": [
    "def split_and_join(line):\n",
    "    line =line.split(\" \")\n",
    "    line = \"-\".join(line)\n",
    "    return line\n",
    "    # write your code here\n",
    "\n"
   ]
  },
  {
   "cell_type": "markdown",
   "id": "209db137",
   "metadata": {},
   "source": [
    "## 3. What's Your Name?"
   ]
  },
  {
   "cell_type": "code",
   "execution_count": null,
   "id": "17edd24b",
   "metadata": {},
   "outputs": [],
   "source": [
    "#\n",
    "# Complete the 'print_full_name' function below.\n",
    "#\n",
    "# The function is expected to return a STRING.\n",
    "# The function accepts following parameters:\n",
    "#  1. STRING first\n",
    "#  2. STRING last\n",
    "#\n",
    "\n",
    "def print_full_name(first, last):\n",
    "     print(\"Hello \" + first_name + \" \" + last_name + \"! You just delved into python.\")\n",
    "\n",
    "\n"
   ]
  },
  {
   "cell_type": "markdown",
   "id": "65221f49",
   "metadata": {},
   "source": [
    "## 4. Mutations"
   ]
  },
  {
   "cell_type": "code",
   "execution_count": null,
   "id": "e47e0087",
   "metadata": {},
   "outputs": [],
   "source": [
    "def mutate_string(string, position, character):\n",
    "    s = list(string)\n",
    "    s[position] = character\n",
    "    string =\"\".join(s)\n",
    "    return string\n",
    "\n"
   ]
  },
  {
   "cell_type": "markdown",
   "id": "429988d1",
   "metadata": {},
   "source": [
    "## 5. Find a string\n"
   ]
  },
  {
   "cell_type": "code",
   "execution_count": null,
   "id": "3b0544cb",
   "metadata": {},
   "outputs": [],
   "source": [
    "def count_substring(string, sub_string):\n",
    "    count = 0\n",
    "\n",
    "    i = string.find(sub_string)\n",
    "\n",
    "    while i != -1:\n",
    "        count += 1\n",
    "        i = string.find(sub_string, i+1)\n",
    "    return count\n"
   ]
  },
  {
   "cell_type": "markdown",
   "id": "262edacc",
   "metadata": {},
   "source": [
    "## 6. String Validators\n"
   ]
  },
  {
   "cell_type": "code",
   "execution_count": null,
   "id": "02411833",
   "metadata": {},
   "outputs": [],
   "source": [
    "if __name__ == '__main__':\n",
    "    s = input()\n",
    "    print(any(c.isalnum() for c in s))\n",
    "    print(any(c.isalpha() for c in s))\n",
    "    print(any(c.isdigit() for c in s))\n",
    "    print(any(c.islower() for c in s))\n",
    "    print(any(c.isupper() for c in s))\n"
   ]
  },
  {
   "cell_type": "markdown",
   "id": "a0ee3ac6",
   "metadata": {},
   "source": [
    "## 7. Text Alignment"
   ]
  },
  {
   "cell_type": "code",
   "execution_count": null,
   "id": "c297f38d",
   "metadata": {},
   "outputs": [],
   "source": [
    "#!/usr/bin/env python3\n",
    "\n",
    "def main():\n",
    "    # Replace all ______ with rjust, ljust or center. \n",
    "\n",
    "    thickness = int(input())  # This must be an odd number\n",
    "    c = 'H'\n",
    "    \n",
    "    # Top Cone\n",
    "    for i in range(thickness):\n",
    "        print((c * i).rjust(thickness - 1) + c + (c * i).ljust(thickness - 1))\n",
    "    \n",
    "    # Top Pillars\n",
    "    for i in range(thickness + 1):\n",
    "        print((c * thickness).center(thickness * 2) + (c * thickness).center(thickness * 6))\n",
    "    \n",
    "    # Middle Belt\n",
    "    for i in range((thickness + 1) // 2):\n",
    "        print((c * thickness * 5).center(thickness * 6))    \n",
    "    \n",
    "    # Bottom Pillars\n",
    "    for i in range(thickness + 1):\n",
    "        print((c * thickness).center(thickness * 2) + (c * thickness).center(thickness * 6))    \n",
    "    \n",
    "    # Bottom Cone\n",
    "    for i in range(thickness):\n",
    "        print(((c * (thickness - i - 1)).rjust(thickness) + c + (c * (thickness - i - 1)).ljust(thickness)).rjust(thickness * 6))  \n",
    "\n",
    "if __name__ == '__main__':\n",
    "    main()\n"
   ]
  },
  {
   "cell_type": "markdown",
   "id": "264d5916",
   "metadata": {},
   "source": [
    "## 8. Text Wrap"
   ]
  },
  {
   "cell_type": "code",
   "execution_count": null,
   "id": "aa22253e",
   "metadata": {},
   "outputs": [],
   "source": [
    "def wrap(string, max_width):\n",
    "    return textwrap.fill(string, max_width)"
   ]
  },
  {
   "cell_type": "markdown",
   "id": "cdd8e2ed",
   "metadata": {},
   "source": [
    "## 9. Designer Door Mat"
   ]
  },
  {
   "cell_type": "code",
   "execution_count": null,
   "id": "8b7ae9fa",
   "metadata": {},
   "outputs": [],
   "source": [
    "# Enter your code here. Read input from STDIN. Print output to STDOUT\n",
    "if __name__ == '__main__':\n",
    "    N, M = map(int,input().split()) # More than 6 lines of code will result in 0 score. Blank lines are not counted.\n",
    "    for i in range(1,N,2):\n",
    "        print((\".|.\"*i).center(M,'-'))\n",
    "    print('WELCOME'.center(M,'-'))\n",
    "    for i in range(N-2,-1,-2):\n",
    "        print((\".|.\"*i).center(M,'-'))\n"
   ]
  },
  {
   "cell_type": "markdown",
   "id": "c44e18e7",
   "metadata": {},
   "source": [
    "## 10. String Formatting\n"
   ]
  },
  {
   "cell_type": "code",
   "execution_count": null,
   "id": "b4f93fbd",
   "metadata": {},
   "outputs": [],
   "source": [
    "def print_formatted(number):\n",
    "    for i in range(1, number+1):\n",
    "        print(\"{0:>{w}d} {0:>{w}o} {0:>{w}X} {0:>{w}b}\".format(i, w=len(bin(number)[2:])))\n",
    "    # your code goes here\n",
    "\n"
   ]
  },
  {
   "cell_type": "markdown",
   "id": "1817e891",
   "metadata": {},
   "source": [
    "## 11. Alphabet Rangoli"
   ]
  },
  {
   "cell_type": "code",
   "execution_count": null,
   "id": "2e6e09c3",
   "metadata": {},
   "outputs": [],
   "source": [
    "def print_rangoli(size):\n",
    "    import string\n",
    "    alphabets = string.ascii_lowercase\n",
    "    rows = (size*2) - 1\n",
    "    width = (rows*2) - 1\n",
    "    s = alphabets[:size]\n",
    "    for i in range(1, size+1):\n",
    "        r = s[::-1][:i]\n",
    "        print('-'.join(r+r[:i-1][::-1]).center(width, '-'))\n",
    "\n",
    "    for i in range(size-1, 0, -1):\n",
    "        r = s[::-1][:i]\n",
    "        print('-'.join(r+r[:i-1][::-1]).center(width, '-'))\n",
    "\n",
    "    # your code goes here\n",
    "\n"
   ]
  },
  {
   "cell_type": "markdown",
   "id": "79b44c51",
   "metadata": {},
   "source": [
    "## 12. Capitalize!"
   ]
  },
  {
   "cell_type": "code",
   "execution_count": null,
   "id": "23942e24",
   "metadata": {},
   "outputs": [],
   "source": [
    "# Complete the solve function below.\n",
    "def solve(s):\n",
    "    return ' '.join([word.capitalize() for word in s.split(' ')])\n",
    "\n"
   ]
  },
  {
   "cell_type": "markdown",
   "id": "da5dc744",
   "metadata": {},
   "source": [
    "## 13. The Minion Game"
   ]
  },
  {
   "cell_type": "code",
   "execution_count": null,
   "id": "4391831c",
   "metadata": {},
   "outputs": [],
   "source": [
    "def minion_game(string):\n",
    "    vowels = 'AEIOU'\n",
    "    str_lenght = len(string)\n",
    "    kevin_score, stuart_score = 0, 0\n",
    "\n",
    "    for i in range(str_lenght):\n",
    "        if s[i] in vowels:\n",
    "            kevin_score += (str_lenght - i)\n",
    "        else:\n",
    "            stuart_score += (str_lenght - i)\n",
    "\n",
    "    if kevin_score > stuart_score:\n",
    "        print(\"Kevin\", kevin_score)\n",
    "    elif kevin_score < stuart_score:\n",
    "        print(\"Stuart\", stuart_score)\n",
    "    else:\n",
    "        print(\"Draw\")\n",
    "    # your code goes here\n",
    "\n"
   ]
  },
  {
   "cell_type": "markdown",
   "id": "53bb88d8",
   "metadata": {},
   "source": [
    "## 14. Merge the Tools!"
   ]
  },
  {
   "cell_type": "code",
   "execution_count": null,
   "id": "99a9e7f4",
   "metadata": {},
   "outputs": [],
   "source": [
    "from collections import OrderedDict\n",
    "def merge_the_tools(string, k):\n",
    "     for i in range(0, len(string), k):\n",
    "        print(''.join(OrderedDict.fromkeys(string[i:i + k])))\n",
    "\n",
    "    # your code goes here"
   ]
  }
 ],
 "metadata": {
  "kernelspec": {
   "display_name": "Python 3",
   "language": "python",
   "name": "python3"
  },
  "language_info": {
   "codemirror_mode": {
    "name": "ipython",
    "version": 3
   },
   "file_extension": ".py",
   "mimetype": "text/x-python",
   "name": "python",
   "nbconvert_exporter": "python",
   "pygments_lexer": "ipython3",
   "version": "3.8.8"
  }
 },
 "nbformat": 4,
 "nbformat_minor": 5
}
