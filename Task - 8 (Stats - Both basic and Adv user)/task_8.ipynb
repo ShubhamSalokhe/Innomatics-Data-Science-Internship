{
 "cells": [
  {
   "cell_type": "markdown",
   "metadata": {},
   "source": [
    "### Binomial Distribution I"
   ]
  },
  {
   "cell_type": "code",
   "execution_count": null,
   "metadata": {},
   "outputs": [],
   "source": [
    "def fact(n):\n",
    "    return 1 if n == 0 else n*fact(n-1)\n",
    "\n",
    "def comb(n, x):\n",
    "    return fact(n) / (fact(x) * fact(n-x))\n",
    "\n",
    "def b(x, n, p):\n",
    "    return comb(n, x) * p**x * (1-p)**(n-x)\n",
    "\n",
    "l, r = list(map(float, input().split(\" \")))\n",
    "odds = l / r\n",
    "print(round(sum([b(i, 6, odds / (1 + odds)) for i in range(3, 7)]), 3))\n"
   ]
  },
  {
   "cell_type": "markdown",
   "metadata": {},
   "source": [
    "### Binomial Distribution II"
   ]
  },
  {
   "cell_type": "code",
   "execution_count": null,
   "metadata": {},
   "outputs": [],
   "source": [
    "import math\n",
    "\n",
    "p = 0.12\n",
    "ans1 = 0\n",
    "for i in range(0, 3):\n",
    "    ans1 += math.factorial(10)/math.factorial(i)/math.factorial(10-i) * p**i * (1-p)**(10-i)\n",
    "    if i == 1:\n",
    "        ans2 = 1 - ans1\n",
    "\n",
    "print(round(ans1, 3))\n",
    "print(round(ans2, 3))"
   ]
  }
 ],
 "metadata": {
  "language_info": {
   "name": "python"
  },
  "orig_nbformat": 4
 },
 "nbformat": 4,
 "nbformat_minor": 2
}
