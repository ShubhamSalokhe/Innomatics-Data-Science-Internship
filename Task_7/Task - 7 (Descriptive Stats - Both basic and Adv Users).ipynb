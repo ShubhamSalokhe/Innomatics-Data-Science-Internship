{
 "cells": [
  {
   "cell_type": "markdown",
   "id": "5b0b9711",
   "metadata": {},
   "source": [
    "## Innomatics Research Labs\n",
    "**SHUBHAM SALOKHE**"
   ]
  },
  {
   "cell_type": "markdown",
   "id": "c95e9cfe",
   "metadata": {},
   "source": [
    "<h3>Descriptive Statistics and Python Implementation</h3>\n",
    "<hr>\n",
    "<li>Mean</li>\n",
    "<li>Median</li>\n",
    "<li>Mode</li>\n",
    "<li>Variance</li>\n",
    "<li>Standard Deviation</li>\n",
    "<li>Correlation</li>\n",
    "<li>Normal Distribution (use references)</li>\n",
    "<li>Feature of Normal Distribution</li>\n",
    "<li>Positively Skewed & Negatively Skewed Normal Distribution</li>\n",
    "<li>Effect on Mean, Median and Mode due to Skewness</li>\n",
    "<li>Explain QQ Plot and show the implementation of the same</li>\n",
    "<li>Explain Box Cox and show the implementation of the same</li>\n"
   ]
  },
  {
   "cell_type": "code",
   "execution_count": 1,
   "id": "e3cc8ef0",
   "metadata": {},
   "outputs": [],
   "source": [
    "# importing pandas libraries for importing data\n",
    "import pandas as pd\n",
    "import matplotlib.pyplot as plt\n",
    "%matplotlib inline\n",
    "\n",
    "import seaborn as sns"
   ]
  },
  {
   "cell_type": "code",
   "execution_count": 2,
   "id": "3f8662ea",
   "metadata": {},
   "outputs": [
    {
     "data": {
      "text/html": [
       "<div>\n",
       "<style scoped>\n",
       "    .dataframe tbody tr th:only-of-type {\n",
       "        vertical-align: middle;\n",
       "    }\n",
       "\n",
       "    .dataframe tbody tr th {\n",
       "        vertical-align: top;\n",
       "    }\n",
       "\n",
       "    .dataframe thead th {\n",
       "        text-align: right;\n",
       "    }\n",
       "</style>\n",
       "<table border=\"1\" class=\"dataframe\">\n",
       "  <thead>\n",
       "    <tr style=\"text-align: right;\">\n",
       "      <th></th>\n",
       "      <th>Mthly_HH_Income</th>\n",
       "      <th>Mthly_HH_Expense</th>\n",
       "      <th>No_of_Fly_Members</th>\n",
       "      <th>Emi_or_Rent_Amt</th>\n",
       "      <th>Annual_HH_Income</th>\n",
       "      <th>Highest_Qualified_Member</th>\n",
       "      <th>No_of_Earning_Members</th>\n",
       "    </tr>\n",
       "  </thead>\n",
       "  <tbody>\n",
       "    <tr>\n",
       "      <th>0</th>\n",
       "      <td>5000</td>\n",
       "      <td>8000</td>\n",
       "      <td>3</td>\n",
       "      <td>2000</td>\n",
       "      <td>64200</td>\n",
       "      <td>Under-Graduate</td>\n",
       "      <td>1</td>\n",
       "    </tr>\n",
       "    <tr>\n",
       "      <th>1</th>\n",
       "      <td>6000</td>\n",
       "      <td>7000</td>\n",
       "      <td>2</td>\n",
       "      <td>3000</td>\n",
       "      <td>79920</td>\n",
       "      <td>Illiterate</td>\n",
       "      <td>1</td>\n",
       "    </tr>\n",
       "    <tr>\n",
       "      <th>2</th>\n",
       "      <td>10000</td>\n",
       "      <td>4500</td>\n",
       "      <td>2</td>\n",
       "      <td>0</td>\n",
       "      <td>112800</td>\n",
       "      <td>Under-Graduate</td>\n",
       "      <td>1</td>\n",
       "    </tr>\n",
       "    <tr>\n",
       "      <th>3</th>\n",
       "      <td>10000</td>\n",
       "      <td>2000</td>\n",
       "      <td>1</td>\n",
       "      <td>0</td>\n",
       "      <td>97200</td>\n",
       "      <td>Illiterate</td>\n",
       "      <td>1</td>\n",
       "    </tr>\n",
       "    <tr>\n",
       "      <th>4</th>\n",
       "      <td>12500</td>\n",
       "      <td>12000</td>\n",
       "      <td>2</td>\n",
       "      <td>3000</td>\n",
       "      <td>147000</td>\n",
       "      <td>Graduate</td>\n",
       "      <td>1</td>\n",
       "    </tr>\n",
       "    <tr>\n",
       "      <th>5</th>\n",
       "      <td>14000</td>\n",
       "      <td>8000</td>\n",
       "      <td>2</td>\n",
       "      <td>0</td>\n",
       "      <td>196560</td>\n",
       "      <td>Graduate</td>\n",
       "      <td>1</td>\n",
       "    </tr>\n",
       "    <tr>\n",
       "      <th>6</th>\n",
       "      <td>15000</td>\n",
       "      <td>16000</td>\n",
       "      <td>3</td>\n",
       "      <td>35000</td>\n",
       "      <td>167400</td>\n",
       "      <td>Post-Graduate</td>\n",
       "      <td>1</td>\n",
       "    </tr>\n",
       "    <tr>\n",
       "      <th>7</th>\n",
       "      <td>18000</td>\n",
       "      <td>20000</td>\n",
       "      <td>5</td>\n",
       "      <td>8000</td>\n",
       "      <td>216000</td>\n",
       "      <td>Graduate</td>\n",
       "      <td>1</td>\n",
       "    </tr>\n",
       "    <tr>\n",
       "      <th>8</th>\n",
       "      <td>19000</td>\n",
       "      <td>9000</td>\n",
       "      <td>2</td>\n",
       "      <td>0</td>\n",
       "      <td>218880</td>\n",
       "      <td>Under-Graduate</td>\n",
       "      <td>1</td>\n",
       "    </tr>\n",
       "    <tr>\n",
       "      <th>9</th>\n",
       "      <td>20000</td>\n",
       "      <td>9000</td>\n",
       "      <td>4</td>\n",
       "      <td>0</td>\n",
       "      <td>220800</td>\n",
       "      <td>Under-Graduate</td>\n",
       "      <td>2</td>\n",
       "    </tr>\n",
       "  </tbody>\n",
       "</table>\n",
       "</div>"
      ],
      "text/plain": [
       "   Mthly_HH_Income  Mthly_HH_Expense  No_of_Fly_Members  Emi_or_Rent_Amt  \\\n",
       "0             5000              8000                  3             2000   \n",
       "1             6000              7000                  2             3000   \n",
       "2            10000              4500                  2                0   \n",
       "3            10000              2000                  1                0   \n",
       "4            12500             12000                  2             3000   \n",
       "5            14000              8000                  2                0   \n",
       "6            15000             16000                  3            35000   \n",
       "7            18000             20000                  5             8000   \n",
       "8            19000              9000                  2                0   \n",
       "9            20000              9000                  4                0   \n",
       "\n",
       "   Annual_HH_Income Highest_Qualified_Member  No_of_Earning_Members  \n",
       "0             64200           Under-Graduate                      1  \n",
       "1             79920               Illiterate                      1  \n",
       "2            112800           Under-Graduate                      1  \n",
       "3             97200               Illiterate                      1  \n",
       "4            147000                 Graduate                      1  \n",
       "5            196560                 Graduate                      1  \n",
       "6            167400            Post-Graduate                      1  \n",
       "7            216000                 Graduate                      1  \n",
       "8            218880           Under-Graduate                      1  \n",
       "9            220800           Under-Graduate                      2  "
      ]
     },
     "execution_count": 2,
     "metadata": {},
     "output_type": "execute_result"
    }
   ],
   "source": [
    "df = pd.read_csv(\"data.csv\")\n",
    "df.head(10)"
   ]
  },
  {
   "cell_type": "markdown",
   "id": "2593759b",
   "metadata": {},
   "source": [
    "## Descriptive Statistics. "
   ]
  },
  {
   "cell_type": "markdown",
   "id": "b26e7392",
   "metadata": {},
   "source": [
    "<h2>1. Mean</h2>\n",
    "<p>Mean is the sum of the all values, devided by the number of the values</p>"
   ]
  },
  {
   "cell_type": "code",
   "execution_count": 3,
   "id": "6fd83ac3",
   "metadata": {},
   "outputs": [
    {
     "name": "stdout",
     "output_type": "stream",
     "text": [
      "Values: [9, 3, 1, 8, 3, 6]\n",
      "Number of values: 6\n"
     ]
    }
   ],
   "source": [
    "list_num = [9,3,1,8,3,6]\n",
    "print(\"Values: {}\".format(list_num))\n",
    "print(\"Number of values: {}\".format(len(list_num)))"
   ]
  },
  {
   "cell_type": "code",
   "execution_count": 4,
   "id": "17238910",
   "metadata": {},
   "outputs": [
    {
     "name": "stdout",
     "output_type": "stream",
     "text": [
      "Sum of all Values: 30\n"
     ]
    }
   ],
   "source": [
    "# making the sum of all numbers \n",
    "sum_num = (9+3+1+8+3+6)\n",
    "\n",
    "print(\"Sum of all Values: {}\".format(sum_num))"
   ]
  },
  {
   "cell_type": "markdown",
   "id": "ed2a844a",
   "metadata": {},
   "source": [
    "## Mean Formula\n",
    "<h3> \n",
    "    $$\\bar{X} = \\left( \\frac{\\sum_{i=0}^{N}X_i}{N}\\right)$$   "
   ]
  },
  {
   "cell_type": "code",
   "execution_count": 5,
   "id": "e0d72894",
   "metadata": {},
   "outputs": [
    {
     "name": "stdout",
     "output_type": "stream",
     "text": [
      "Mean: 5.0\n"
     ]
    }
   ],
   "source": [
    "Mean = sum_num/6\n",
    "print(\"Mean: {}\".format(Mean))"
   ]
  },
  {
   "cell_type": "markdown",
   "id": "f2e75d19",
   "metadata": {},
   "source": [
    "<h4>Similarly. we do with our data set, we are going to make mean of Mthly_HH_Income column</h4>"
   ]
  },
  {
   "cell_type": "code",
   "execution_count": 6,
   "id": "1fe59dbc",
   "metadata": {},
   "outputs": [
    {
     "name": "stdout",
     "output_type": "stream",
     "text": [
      "Values: [9, 3, 1, 8, 3, 6]\n",
      "Number of values: 6\n"
     ]
    }
   ],
   "source": [
    "list_nums = df['Mthly_HH_Income'].values\n",
    "print(\"Values: {}\".format(list_num))\n",
    "print(\"Number of values: {}\".format(len(list_num)))"
   ]
  },
  {
   "cell_type": "code",
   "execution_count": 7,
   "id": "482e61f6",
   "metadata": {},
   "outputs": [
    {
     "name": "stdout",
     "output_type": "stream",
     "text": [
      "Sum of all Values: 30\n"
     ]
    }
   ],
   "source": [
    "# making the sum of all numbers \n",
    "sum_nums = sum(list_nums)\n",
    "# Here i'm using python inbuilt function(sum)\n",
    "\n",
    "print(\"Sum of all Values: {}\".format(sum_num))"
   ]
  },
  {
   "cell_type": "code",
   "execution_count": 8,
   "id": "2989595a",
   "metadata": {},
   "outputs": [
    {
     "name": "stdout",
     "output_type": "stream",
     "text": [
      "Mean of Mthly_HH_Income : 0.6\n"
     ]
    }
   ],
   "source": [
    "# Taking out mean \n",
    "Mean = sum_num/len(list_nums)\n",
    "#Mean = 2077900/50\n",
    "print(\"Mean of Mthly_HH_Income : {}\".format(Mean))\n"
   ]
  },
  {
   "cell_type": "code",
   "execution_count": 9,
   "id": "5196b802",
   "metadata": {},
   "outputs": [
    {
     "name": "stdout",
     "output_type": "stream",
     "text": [
      "41558.0\n"
     ]
    }
   ],
   "source": [
    "# Similarlly we can use numpy for mean\n",
    "import numpy\n",
    "print(numpy.mean(df['Mthly_HH_Income']))"
   ]
  },
  {
   "cell_type": "markdown",
   "id": "e3270a90",
   "metadata": {},
   "source": [
    "<h2>2. Median</h2>\n",
    "<p>The Median is the middle number in the list of numbers ordered from lowest to highest</p>"
   ]
  },
  {
   "cell_type": "markdown",
   "id": "3d86dcbb",
   "metadata": {},
   "source": [
    "![title](Finding_the_median.png)"
   ]
  },
  {
   "cell_type": "markdown",
   "id": "def0fd82",
   "metadata": {},
   "source": [
    "### Formula of median\n",
    "\n",
    "$$\n",
    "Median =\\left(\\frac{N + 1}{2}\\right)^{th}\\ Observation\\\n",
    "$$\n"
   ]
  },
  {
   "cell_type": "code",
   "execution_count": 10,
   "id": "9a6371a9",
   "metadata": {},
   "outputs": [
    {
     "name": "stdout",
     "output_type": "stream",
     "text": [
      "[  5000   6000  10000  10000  12500  14000  15000  18000  19000  20000\n",
      "  20000  22000  23400  24000  24000  25000  25000  25000  29000  30000\n",
      "  30500  32000  34000  34000  35000  35000  39000  40000  42000  43000\n",
      "  45000  45000  45000  45000  46000  47000  50000  50500  55000  60000\n",
      "  60000  65000  70000  80000  85000  90000  98000 100000 100000 100000]\n"
     ]
    }
   ],
   "source": [
    "# appling on data set, Mthly_HH_Income\n",
    "# step-1 sorting the values ascending order \n",
    "n_num = df['Mthly_HH_Income'].sort_values(ascending= True)\n",
    "print(n_num.values)"
   ]
  },
  {
   "cell_type": "code",
   "execution_count": 11,
   "id": "3c0ac0ce",
   "metadata": {},
   "outputs": [
    {
     "name": "stdout",
     "output_type": "stream",
     "text": [
      "50\n"
     ]
    }
   ],
   "source": [
    "# Step 2: counting the values\n",
    "n = len(n_num)\n",
    "print(n)"
   ]
  },
  {
   "cell_type": "code",
   "execution_count": 12,
   "id": "d305c775",
   "metadata": {},
   "outputs": [
    {
     "name": "stdout",
     "output_type": "stream",
     "text": [
      "Median is: 35000.0\n"
     ]
    }
   ],
   "source": [
    "if n % 2 == 0:\n",
    "    median1 = n_num[n//2]\n",
    "    median2 = n_num[n//2 - 1]\n",
    "    median = (median1 + median2)/2\n",
    "else:\n",
    "    median = n_num[n//2]\n",
    "print(\"Median is: \" + str(median))"
   ]
  },
  {
   "cell_type": "markdown",
   "id": "0ca549d5",
   "metadata": {},
   "source": [
    "<h2>3. Mode</h2>\n",
    "<p>The <b>Mode</b> is the value that appears most often in a set of data</p>"
   ]
  },
  {
   "cell_type": "markdown",
   "id": "bc8f9281",
   "metadata": {},
   "source": [
    "### Formula of Mode\n",
    "\n",
    "## $$\n",
    "M_0 =\\ l+h\\left(\\frac{f_1 -f_0}{2f_1-f_0-f_2}\\right)\\\\\n",
    "$$\n",
    "Where,\n",
    "<br> *l* = lower limit of the modal class,\n",
    "<br> *h* = size of the class interval (assuming all class size to be equal),\n",
    "<br> *f<sub>1</sub>* = frequency of the modal class,\n",
    "<br> *f<sub>0</sub>* = frequency of the class preceding the modal class,\n",
    "<br> *f<sub>2</sub>* = frequency of the class succeding the modal class.\n",
    "\n",
    "\n"
   ]
  },
  {
   "cell_type": "code",
   "execution_count": 13,
   "id": "5e49083e",
   "metadata": {},
   "outputs": [
    {
     "name": "stdout",
     "output_type": "stream",
     "text": [
      "Mode is / are: 45000\n"
     ]
    }
   ],
   "source": [
    "from collections import Counter\n",
    "  \n",
    "# list of elements to calculate mode\n",
    "n_num = df['Mthly_HH_Income']\n",
    "n = len(n_num)\n",
    "  \n",
    "data = Counter(n_num)\n",
    "get_mode = dict(data)\n",
    "mode = [k for k, v in get_mode.items() if v == max(list(data.values()))]\n",
    "  \n",
    "if len(mode) == n:\n",
    "    get_mode = \"No mode found\"\n",
    "else:\n",
    "    get_mode = \"Mode is / are: \" + ', '.join(map(str, mode))\n",
    "    \n",
    "print(get_mode)"
   ]
  },
  {
   "cell_type": "markdown",
   "id": "0134eb10",
   "metadata": {},
   "source": [
    "<h2>3. Variance </h2>\n",
    "it’s the average squared deviation of the list elements from the average value."
   ]
  },
  {
   "cell_type": "markdown",
   "id": "9929ebd5",
   "metadata": {},
   "source": [
    "$$s^{2} = \\frac{SS}{N - 1} = \\frac{\\sum (x_{i} - \\bar{x})^{2}}{N - 1}$$\n",
    "\n",
    "where,\n",
    "<br>**SS**  is the sum of squared errors\n",
    "<br>**N** is the number of observations in the group\n",
    "<br>**x<sub>i</sub>** is the **i<sup>th</sup>** score in a group; and \n",
    "<br>**$\\bar{x}$** is the mean of the group."
   ]
  },
  {
   "cell_type": "code",
   "execution_count": 14,
   "id": "3c48ce6a",
   "metadata": {},
   "outputs": [
    {
     "name": "stdout",
     "output_type": "stream",
     "text": [
      "667478836.0\n"
     ]
    }
   ],
   "source": [
    "# 2. W/O External Dependency\n",
    "lst= df['Mthly_HH_Income']\n",
    "avg = sum(lst) / len(lst)\n",
    "var = sum((x-avg)**2 for x in lst) / len(lst)\n",
    "print(var)"
   ]
  },
  {
   "cell_type": "markdown",
   "id": "439bfa74",
   "metadata": {},
   "source": [
    "<h2>4. Standard Deviation\n",
    "</h2>"
   ]
  },
  {
   "cell_type": "markdown",
   "id": "7689b198",
   "metadata": {},
   "source": [
    "![title](Standardeviation.png)"
   ]
  },
  {
   "cell_type": "markdown",
   "id": "d0d042f8",
   "metadata": {},
   "source": [
    "## $$s = \\sqrt{s^{2}} = \\sqrt{\\frac{SS}{N - 1}} = \\sqrt{\\frac{\\sum (x_{i} - \\bar{x})^{2}}{N - 1}}$$\n",
    "\n",
    "where,\n",
    "<br>*S<sup>2</sup>**is the variance\n",
    "<br>**SS**  is the sum of squared errors\n",
    "<br>**N** is the number of observations in the group \n",
    "<br>**x<sub>i</sub>** is the **i<sup>th</sup>** score in a group; and \n",
    "<br>**$\\bar{x}$** is the mean of the group."
   ]
  },
  {
   "cell_type": "code",
   "execution_count": 15,
   "id": "cdf42770",
   "metadata": {},
   "outputs": [
    {
     "data": {
      "text/plain": [
       "25835.611779092826"
      ]
     },
     "execution_count": 15,
     "metadata": {},
     "output_type": "execute_result"
    }
   ],
   "source": [
    "def get_std_dev(ls):\n",
    "    n = len(ls)\n",
    "    mean = sum(ls) / n\n",
    "    var = sum((x - mean)**2 for x in ls) / n\n",
    "    std_dev = var ** 0.5\n",
    "    return std_dev\n",
    "# create a list of data points\n",
    "ls =df['Mthly_HH_Income'] \n",
    "get_std_dev(ls)"
   ]
  },
  {
   "cell_type": "markdown",
   "id": "c4730802",
   "metadata": {},
   "source": [
    "<h2>5. Correlation\n",
    "</h2>"
   ]
  },
  {
   "cell_type": "markdown",
   "id": "ae881beb",
   "metadata": {},
   "source": [
    "![title](correlation.webp)"
   ]
  },
  {
   "cell_type": "code",
   "execution_count": 16,
   "id": "e5d765ca",
   "metadata": {},
   "outputs": [
    {
     "data": {
      "text/plain": [
       "<AxesSubplot:>"
      ]
     },
     "execution_count": 16,
     "metadata": {},
     "output_type": "execute_result"
    },
    {
     "data": {
      "image/png": "[encoded data removed]",
      "text/plain": [
       "<Figure size 1152x576 with 2 Axes>"
      ]
     },
     "metadata": {
      "needs_background": "light"
     },
     "output_type": "display_data"
    }
   ],
   "source": [
    "plt.figure(figsize=(16,8))\n",
    "sns.heatmap(df.corr(), annot = True)"
   ]
  },
  {
   "cell_type": "markdown",
   "id": "ded9fd72",
   "metadata": {},
   "source": [
    "- A correlation coefficient of 1 means that for every positive increase in one variable, there is a positive increase of a fixed proportion in the other. For example, shoe sizes go up in (almost) perfect correlation with foot length.\n",
    "- A correlation coefficient of -1 means that for every positive increase in one variable, there is a negative decrease of a fixed proportion in the other. For example, the amount of gas in a tank decreases in (almost) perfect correlation with speed.\n",
    "- Zero means that for every increase, there isn’t a positive or negative increase. The two just aren’t related."
   ]
  },
  {
   "cell_type": "markdown",
   "id": "5daeb0ab",
   "metadata": {},
   "source": [
    "<h3>Correlation - Pearson</h3>\n",
    "<p>The Pearson correlation coefficient is probably the most widely used measure for linear relationships between two normal distributed variables and thus often just called \"correlation coefficient\". Usually, the Pearson coefficient is obtained via a Least-Squares fit and a value of 1 represents a perfect positive relation-ship, -1 a perfect negative relationship, and 0 indicates the absence of a relationship between variables.</p>"
   ]
  },
  {
   "cell_type": "markdown",
   "id": "721b91c2",
   "metadata": {},
   "source": [
    "## $$\\rho = \\frac{\\text{cov}(X,Y)}{\\sigma_x \\sigma_y}$$"
   ]
  },
  {
   "cell_type": "markdown",
   "id": "a75f111a",
   "metadata": {},
   "source": [
    "And the estimate\n",
    "\n",
    "## $$r = \\frac{{}\\sum_{i=1}^{n} (x_i - \\overline{x})(y_i - \\overline{y})}\n",
    "{\\sqrt{\\sum_{i=1}^{n} (x_i - \\overline{x})^2(y_i - \\overline{y})^2}}$$"
   ]
  },
  {
   "cell_type": "markdown",
   "id": "d0903625",
   "metadata": {},
   "source": [
    "<h2>6. Normal Distribution</h2>\n",
    "\n",
    "<p1><b>1. Normal distribution (multivariate)</b></p1>\n",
    "<ul>\n",
    "<li>Probability density function</li>"
   ]
  },
  {
   "cell_type": "markdown",
   "id": "6eee6d8b",
   "metadata": {},
   "source": [
    "## $$ p(\\pmb x) \\sim N(\\pmb \\mu|\\Sigma)\\\\\\\\$$\n",
    "\n",
    "## $$ p(\\pmb x) \\sim \\frac{1}{(2\\pi)^{d/2} \\; |\\Sigma|^{1/2}} \\exp \\bigg[ -\\frac{1}{2}(\\pmb x - \\pmb \\mu)^t \\Sigma^{-1}(\\pmb x - \\pmb \\mu) \\bigg]\n",
    "$$"
   ]
  },
  {
   "cell_type": "markdown",
   "id": "82d96576",
   "metadata": {},
   "source": [
    "<p><b>2. Normal distribution (univariate)</b></p>\n",
    "<ul>\n",
    "<li>Probability density function</li>"
   ]
  },
  {
   "cell_type": "markdown",
   "id": "80939814",
   "metadata": {},
   "source": [
    "## $$ p(x) \\sim N(\\mu|\\sigma^2) \\\\\\\\$$\n",
    "\n",
    "## $$ p(x) \\sim \\frac{1}{\\sqrt{2\\pi\\sigma^2}} \\exp{ \\bigg[-\\frac{1}{2}\\bigg( \\frac{x-\\mu}{\\sigma}\\bigg)^2 \\bigg] } $$\n"
   ]
  },
  {
   "cell_type": "markdown",
   "id": "a4183e8a",
   "metadata": {},
   "source": [
    "<h2>7. Positively Skewed & Negatively Skewed Normal Distribution</h2>"
   ]
  },
  {
   "cell_type": "markdown",
   "id": "ee32f001",
   "metadata": {},
   "source": [
    "Besides positive and negative skew, distributions can also be said to have zero or undefined skew. In the curve of a distribution, the data on the right side of the curve may taper differently from the data on the left side. These taperings are known as \"tails.\" Negative skew refers to a longer or fatter tail on the left side of the distribution, while positive skew refers to a longer or fatter tail on the right.\n",
    "<br>The mean of positively skewed data will be greater than the median. In a distribution that is negatively skewed, the exact opposite is the case: the mean of negatively skewed data will be less than the median. If the data graphs symmetrically, the distribution has zero skewness, regardless of how long or fat the tails are."
   ]
  },
  {
   "cell_type": "markdown",
   "id": "cae821ec",
   "metadata": {},
   "source": [
    "The three probability distributions depicted below are <b>positively-skewed (or right-skewed)</b> to an increasing degree. <b>Negatively-skewed distributions are also known as left-skewed distributions.</b>"
   ]
  },
  {
   "cell_type": "markdown",
   "id": "c90e705b",
   "metadata": {},
   "source": [
    "![title](Skewness.png)`"
   ]
  },
  {
   "cell_type": "markdown",
   "id": "5f2aec2f",
   "metadata": {},
   "source": [
    "![title](sk1.png)`"
   ]
  }
 ],
 "metadata": {
  "kernelspec": {
   "display_name": "Python 3",
   "language": "python",
   "name": "python3"
  },
  "language_info": {
   "codemirror_mode": {
    "name": "ipython",
    "version": 3
   },
   "file_extension": ".py",
   "mimetype": "text/x-python",
   "name": "python",
   "nbconvert_exporter": "python",
   "pygments_lexer": "ipython3",
   "version": "3.8.8"
  }
 },
 "nbformat": 4,
 "nbformat_minor": 5
}
