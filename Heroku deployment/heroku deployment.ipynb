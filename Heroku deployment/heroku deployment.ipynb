{
 "cells": [
  {
   "cell_type": "markdown",
   "id": "00b0d772",
   "metadata": {},
   "source": [
    "# Streamlit web app deployment on Heroku cloud platform in detail"
   ]
  },
  {
   "cell_type": "markdown",
   "id": "9388e83f",
   "metadata": {},
   "source": [
    "steps:\n",
    "* create ready web app\n",
    "* create heroku account\n",
    "* installing git \n",
    "* creating Procfile and stetup.sh\n",
    "* creating envirnoment \n",
    "* installing required packages on environment\n",
    "* running the application again for ensuring any error \n",
    "* after succssfull runnig creating requirements.txt file (pip freeze >requirements.txt)\n",
    "* initializing git (git init)\n",
    "* login heroku (heroku login)\n",
    "* code adding to staging area (\"git add *\")\n",
    "* commiting the whole code (\"git commit -m \"message\")\n",
    "* git fetch and push heroku master \n"
   ]
  },
  {
   "cell_type": "markdown",
   "id": "e1865a0d",
   "metadata": {},
   "source": [
    "## Deployment of streamilit  web app step wise"
   ]
  },
  {
   "cell_type": "markdown",
   "id": "e18d9fa5",
   "metadata": {},
   "source": [
    "### 1. Create New directory(directory_name:Heroku_deployment) which can contain whole application file (app_directory_name:web_app)\n",
    "<br>![title](heroku\\new_directory.png)"
   ]
  },
  {
   "cell_type": "markdown",
   "id": "45932a1f",
   "metadata": {},
   "source": [
    "\n"
   ]
  },
  {
   "cell_type": "markdown",
   "id": "c50c6814",
   "metadata": {},
   "source": [
    "### 2. Creating new Vertual Environment\n",
    "* First we have to open command prompt at the location of directory:Heroku_deployment present</li>\n",
    "<br>Type <b>\"cmd\"</b> and hit enter \n",
    "\n",
    "    \n",
    "![title](heroku\\cmd.png)\n"
   ]
  },
  {
   "cell_type": "markdown",
   "id": "57c83965",
   "metadata": {},
   "source": [
    "<ul>\n",
    "   <li>To Creating a New Virtual Environment Exicute following cmd\n",
    "   <br>cmd:<b>python -m venv env_name</b>\n",
    "   <br>Note-\"env_name\" is the name of Virtual Environment directory\n",
    "   </li>\n",
    "</ul>\n",
    "    \n",
    "![title](heroku\\cmd.png)"
   ]
  },
  {
   "cell_type": "markdown",
   "id": "0345d54d",
   "metadata": {},
   "source": [
    "### 3. Activating created Vertual Environmrnt\n",
    "cmd:<b>.\\env_name\\Scripts\\activate</b>\n",
    "![title](heroku\\after_activating_new_env.png)"
   ]
  },
  {
   "cell_type": "markdown",
   "id": "3d2abd68",
   "metadata": {},
   "source": [
    "### 4. Checking Present pakages\n",
    "cmd:<b>pip list</b>\n",
    "![title](heroku\\pip_list.png)"
   ]
  },
  {
   "cell_type": "markdown",
   "id": "daf3d7d7",
   "metadata": {},
   "source": [
    "### 5. Installing Required Dependencies\n",
    "cmd:<b>pip install package_name1 package_name2 package_name3</b>\n",
    "<br>Note-\"package_name1 package_name2 package_name3\" Dependencies name\n",
    "![title](heroku\\pip_install_libraries.png)"
   ]
  },
  {
   "cell_type": "markdown",
   "id": "a6e3e1e2",
   "metadata": {},
   "source": [
    "### 6. Ensuring runnig the app at local host for further process \n",
    "cmd:<b>streamlit run app.py</b>\n",
    "<br>Note-\"app.py\" python file name\n"
   ]
  },
  {
   "cell_type": "markdown",
   "id": "ee0253f1",
   "metadata": {},
   "source": [
    "### 7. After succsefull run Creating requirements.txt file\n",
    "cmd:<b>pip freeze > requirements.txt</b>\n",
    "<br>Note 1-\"requirements.txt\" can contains dependency name with their versions\n",
    "![title](heroku\\requirements_file_created.png)\n",
    "<br>Note 2-after creating \"requirements.txt\" file, Edit that file and remove \"pywin32==303\" because heroku runs on linux\n",
    "![title](heroku\\removing_pywin32.png)\n",
    "<br>Note 3-after changing \"pywin32==303\" Replacing \"pywinpty==1.1.6\" to \"pywinpty<1.1.6\" this version not fetching well  \n",
    "![title](heroku\\pywinpty_issue_solved.png)\n",
    "<br>Note 2-Replacing \"click==8.0.3\" to \"click==7.1.2\" this version not fetching well\n",
    "![title](heroku\\solving click.png)"
   ]
  },
  {
   "cell_type": "markdown",
   "id": "306d8ddb",
   "metadata": {},
   "source": [
    "### 8. Creating file Procfile by using vs code or in cmd:touch Procfile \n",
    "Procfile contains\n",
    "<br><b>web: sh setup.sh && streamlit run app.py </b></ul>\n",
    "<br>Note-\"setup.sh\" only required for streamlit app, for flask and Django and any other framework use following\n",
    "<br><b>web: gunicorn app:app</b>\n",
    "![title](heroku\\Procfile_data.png)\n",
    "        "
   ]
  },
  {
   "cell_type": "markdown",
   "id": "e31a5f81",
   "metadata": {},
   "source": [
    "### 9. Creating file setup.sh by using vs code or in cmd:touch Procfile \n",
    "<br>Setup.sh contains\n",
    "<br>\n",
    "<br><b>mkdir -p ~/.streamlit/\n",
    "<br>echo \"\\\n",
    "<br>[general]\\n\\\n",
    "<br>email = \\\"your@gmail.com\\\"\\n\\\n",
    "<br>\" > ~/.streamlit/credentials.toml\n",
    "<br>echo \"\\\n",
    "<br>[server]\\n\\\n",
    "<br>headless = true\\n\\\n",
    "<br>enableCORS=false\\n\\\n",
    "<br>port = $PORT\\n\\\n",
    "<br>\" > ~/.streamlit/config.toml</b></ul></b>"
   ]
  },
  {
   "cell_type": "markdown",
   "id": "f748f75a",
   "metadata": {},
   "source": [
    "![title](heroku\\Procfile_data.png)"
   ]
  },
  {
   "cell_type": "markdown",
   "id": "59bc7456",
   "metadata": {},
   "source": [
    "### 10. Creating file Procfile by using vs code or in cmd:touch Procfile \n",
    "Procfile contains this file <b>web: sh setup.sh && streamlit run project.py</b>\n",
    "![title](heroku\\setup.sh_data.png)"
   ]
  },
  {
   "cell_type": "markdown",
   "id": "0135c0ba",
   "metadata": {},
   "source": [
    "### 11. login in Heorku by this cmd\n",
    "cmd:<b>heroku login</b></ul>\n",
    "<br>Note-This cmd redirecting to heroku login page\n",
    "<br>\n",
    "   \n",
    "### 12. Creating new app in heroku page with unique name\n",
    "cmd:<b>heroku create app_name</b></ul>\n",
    "<br>Note-\"app_name\" application name\n",
    "\n",
    "![title](heroku\\login_creating_app.png)  \n",
    "\n",
    "Either go with this way or create manually application name by visiting heroku.com\n",
    "![title](heroku\\create_new_app.png)  \n"
   ]
  },
  {
   "cell_type": "markdown",
   "id": "61f58836",
   "metadata": {},
   "source": [
    "### 13. Initializing git\n",
    "cmd:<b>git init</b></ul>\n",
    "<br>Note-initialize git in the directory (change directory)\n",
    "![title](heroku\\git_init.png) \n"
   ]
  },
  {
   "cell_type": "markdown",
   "id": "acefa554",
   "metadata": {},
   "source": [
    "### 14. adding and commiting all files\n",
    "<br>cmd:<b>git add *</b>\n",
    "<br>cmd:<b>git commit -m \"meassage\"</b>\n",
    "![title](heroku\\git_add_and_commit.png)"
   ]
  },
  {
   "cell_type": "markdown",
   "id": "c59a9da8",
   "metadata": {},
   "source": [
    "### 15. Fetching and pushing with heroko application \n",
    "<br>cmd:<b>heroku git:remote -a app_name</b>\n",
    "<br>cmd:<b>git push heroku master</b>\n",
    "![title](heroku\\req_git_commit_and_add.png)\n",
    "\n"
   ]
  },
  {
   "cell_type": "markdown",
   "id": "73371e0c",
   "metadata": {},
   "source": [
    "### 16.Installation successful \n",
    "![title](heroku\\successfully_installed.png)"
   ]
  }
 ],
 "metadata": {
  "kernelspec": {
   "display_name": "Python 3",
   "language": "python",
   "name": "python3"
  },
  "language_info": {
   "codemirror_mode": {
    "name": "ipython",
    "version": 3
   },
   "file_extension": ".py",
   "mimetype": "text/x-python",
   "name": "python",
   "nbconvert_exporter": "python",
   "pygments_lexer": "ipython3",
   "version": "3.8.8"
  }
 },
 "nbformat": 4,
 "nbformat_minor": 5
}
